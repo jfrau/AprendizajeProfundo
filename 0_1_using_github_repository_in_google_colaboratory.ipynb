{
  "nbformat": 4,
  "nbformat_minor": 0,
  "metadata": {
    "colab": {
      "provenance": [],
      "collapsed_sections": [],
      "authorship_tag": "ABX9TyOW0erw4e3fj9ofi2jFvopd",
      "include_colab_link": true
    },
    "kernelspec": {
      "name": "python3",
      "display_name": "Python 3"
    },
    "language_info": {
      "name": "python"
    },
    "accelerator": "GPU",
    "gpuClass": "standard"
  },
  "cells": [
    {
      "cell_type": "markdown",
      "metadata": {
        "id": "view-in-github",
        "colab_type": "text"
      },
      "source": [
        "<a href=\"https://colab.research.google.com/github/jfrau/AprendizajeProfundo/blob/master/0_1_using_github_repository_in_google_colaboratory.ipynb\" target=\"_parent\"><img src=\"https://colab.research.google.com/assets/colab-badge.svg\" alt=\"Open In Colab\"/></a>"
      ]
    },
    {
      "cell_type": "markdown",
      "source": [
        "# Clonando el repo en google drive"
      ],
      "metadata": {
        "id": "TvEAqQHqb-Y7"
      }
    },
    {
      "cell_type": "markdown",
      "source": [
        "Los pasos de este minitutorial están inspirados en el [artículo](https://medium.com/@ashwindesilva/how-to-use-google-colaboratory-to-clone-a-github-repository-e07cf8d3d22b) de Medium de Ashwin De Silva.\n",
        "\n",
        "1. Crear una carpeta en Google Drive donde nos gustaría descargar el repositorio de la materia (por ejemplo *DiploDatos2022*).\n",
        "\n",
        "2. Ingresar a la carpeta y abrir una notebook de Google Colab (por ejemplo, haciendo click derecho sobre el fondo blanco, luego en \"más\" y luego en \"Google Colaboratory\").\n",
        "\n",
        "3. Para correr con GPU:\n",
        "  \n",
        "  - a. Elegir \"runtime\" en la parte superior izquierda de la pantalla (justo debajo del nombre de la notebook).\n",
        "  - b. Luego hacer click en \"Change Ruuntime Type\"\n",
        "  - c. En la opción  \"Hardware Accelerator\" elegir \"GPU\" y guardar.\n",
        "  - d. Conexión: Hacer click en \"Connect\" (Arriba a la derecha de la pantalla) para activar el entorno con GPU.\n",
        "\n",
        "4. Correr la siguiente linea de código para  montar nuestra unidad de Google en este espacio de ejecución.\n"
      ],
      "metadata": {
        "id": "kRnnAPdwVJzA"
      }
    },
    {
      "cell_type": "code",
      "execution_count": null,
      "metadata": {
        "colab": {
          "base_uri": "https://localhost:8080/"
        },
        "id": "sFdYgsNCfBmI",
        "outputId": "28b8d557-2783-4199-d8b3-d14569934301"
      },
      "outputs": [
        {
          "output_type": "stream",
          "name": "stdout",
          "text": [
            "Drive already mounted at /content/gdrive; to attempt to forcibly remount, call drive.mount(\"/content/gdrive\", force_remount=True).\n"
          ]
        }
      ],
      "source": [
        "from google.colab import drive\n",
        "drive.mount('/content/gdrive')"
      ]
    },
    {
      "cell_type": "code",
      "source": [
        "!ls "
      ],
      "metadata": {
        "id": "iTu_Q4bDZ1bZ"
      },
      "execution_count": null,
      "outputs": []
    },
    {
      "cell_type": "markdown",
      "source": [
        "La celda anterior debería devolverles un directorio llamado *gdrive*.\n",
        "\n",
        "Dado que ya estamos dentro de la carpeta donde queremos descargar nuestro repositorio no hace falta hacer nada más.\n",
        "\n",
        "En caso que quieran guardar el repo en otro lugar con `%cd` pueden ir viendo las distintas carpetas dentro de su drive.\n",
        "\n",
        "\n",
        "5. Finalmente clonamos el [repositorio](https://github.com/DiploDatos/AprendizajeProfundo) de la materia. \n",
        "\n"
      ],
      "metadata": {
        "id": "J4DJIqaQZ5qF"
      }
    },
    {
      "cell_type": "code",
      "source": [
        "! git clone https://github.com/DiploDatos/AprendizajeProfundo.git"
      ],
      "metadata": {
        "id": "jncN8UQ-fI8e"
      },
      "execution_count": null,
      "outputs": []
    },
    {
      "cell_type": "code",
      "source": [
        "! git pull #si quieren traer la ultima actualización del repo"
      ],
      "metadata": {
        "id": "iX-dHhx9beHX"
      },
      "execution_count": null,
      "outputs": []
    },
    {
      "cell_type": "markdown",
      "source": [
        "Ahora ya podemos ejecutar las notebooks que se encuentran en el repo!\n",
        "\n",
        "Es muy probable que cada vez que queramos usar archivos o el repo que clonamos tengamos que montar google drive en colab (primera celda que ejecutamos).\n",
        "\n",
        "\n",
        "Si quieren subir cambios a sus respositorios personales pueden mirar estos links: [link1](https://bebi103a.github.io/lessons/02/git_with_colab.html#:~:text=to%20work%20on.-,Pushing%20your%20notebook%20to%20the%20repository,click%20OK%2C%20the%20notebook%20will%20be%20pushed%20to%20your%20repository.,-Chrome%20plug%2Din) [link2](https://navan0.medium.com/how-to-push-files-into-github-from-google-colab-379fd0077aa8)."
      ],
      "metadata": {
        "id": "2l7iMxW2bx5z"
      }
    },
    {
      "cell_type": "code",
      "source": [],
      "metadata": {
        "id": "PhUs6pm_bnrR"
      },
      "execution_count": null,
      "outputs": []
    }
  ]
}